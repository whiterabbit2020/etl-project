{
 "cells": [
  {
   "cell_type": "markdown",
   "metadata": {
    "toc": true
   },
   "source": [
    "<h1>Table of Contents<span class=\"tocSkip\"></span></h1>\n",
    "<div class=\"toc\"><ul class=\"toc-item\"><li><span><a href=\"#Store-excel-into-DataFrame\" data-toc-modified-id=\"Store-excel-into-DataFrame-1\"><span class=\"toc-item-num\">1&nbsp;&nbsp;</span>Store excel into DataFrame</a></span></li><li><span><a href=\"#Create-new-data-with-select-columns\" data-toc-modified-id=\"Create-new-data-with-select-columns-2\"><span class=\"toc-item-num\">2&nbsp;&nbsp;</span>Create new data with select columns</a></span></li><li><span><a href=\"#Store-JSON-data-into-a-DataFrame\" data-toc-modified-id=\"Store-JSON-data-into-a-DataFrame-3\"><span class=\"toc-item-num\">3&nbsp;&nbsp;</span>Store JSON data into a DataFrame</a></span></li><li><span><a href=\"#Clean-DataFrame\" data-toc-modified-id=\"Clean-DataFrame-4\"><span class=\"toc-item-num\">4&nbsp;&nbsp;</span>Clean DataFrame</a></span></li><li><span><a href=\"#Connect-to-local-database\" data-toc-modified-id=\"Connect-to-local-database-5\"><span class=\"toc-item-num\">5&nbsp;&nbsp;</span>Connect to local database</a></span></li><li><span><a href=\"#Check-for-tables\" data-toc-modified-id=\"Check-for-tables-6\"><span class=\"toc-item-num\">6&nbsp;&nbsp;</span>Check for tables</a></span></li><li><span><a href=\"#Use-pandas-to-load-csv-converted-DataFrame-into-database\" data-toc-modified-id=\"Use-pandas-to-load-csv-converted-DataFrame-into-database-7\"><span class=\"toc-item-num\">7&nbsp;&nbsp;</span>Use pandas to load csv converted DataFrame into database</a></span></li><li><span><a href=\"#Use-pandas-to-load-json-converted-DataFrame-into-database\" data-toc-modified-id=\"Use-pandas-to-load-json-converted-DataFrame-into-database-8\"><span class=\"toc-item-num\">8&nbsp;&nbsp;</span>Use pandas to load json converted DataFrame into database</a></span></li><li><span><a href=\"#Confirm-data-has-been-added-by-querying-the-customer_name-table\" data-toc-modified-id=\"Confirm-data-has-been-added-by-querying-the-customer_name-table-9\"><span class=\"toc-item-num\">9&nbsp;&nbsp;</span>Confirm data has been added by querying the customer_name table</a></span></li><li><span><a href=\"#Confirm-data-has-been-added-by-querying-the-customer_location-table\" data-toc-modified-id=\"Confirm-data-has-been-added-by-querying-the-customer_location-table-10\"><span class=\"toc-item-num\">10&nbsp;&nbsp;</span>Confirm data has been added by querying the customer_location table</a></span></li></ul></div>"
   ]
  },
  {
   "cell_type": "code",
   "execution_count": 46,
   "metadata": {
    "ExecuteTime": {
     "end_time": "2020-05-28T00:47:03.549156Z",
     "start_time": "2020-05-28T00:47:03.545174Z"
    }
   },
   "outputs": [],
   "source": [
    "import pandas as pd\n",
    "from sqlalchemy import create_engine"
   ]
  },
  {
   "cell_type": "markdown",
   "metadata": {
    "slideshow": {
     "slide_type": "-"
    }
   },
   "source": [
    "### Store excel into DataFrame"
   ]
  },
  {
   "cell_type": "code",
   "execution_count": 52,
   "metadata": {
    "ExecuteTime": {
     "end_time": "2020-05-28T00:51:46.198805Z",
     "start_time": "2020-05-28T00:51:45.947439Z"
    }
   },
   "outputs": [
    {
     "name": "stdout",
     "output_type": "stream",
     "text": [
      "January\n",
      "February\n",
      "March\n",
      "April\n",
      "May\n",
      "June\n",
      "July\n",
      "August\n",
      "September\n",
      "October\n",
      "November\n",
      "December\n"
     ]
    },
    {
     "data": {
      "text/plain": [
       "Manufactured Housing              State\n",
       "Unnamed: 1              Single- Section\n",
       "Unnamed: 2               Multi- Section\n",
       "Unnamed: 3                        Total\n",
       "Unnamed: 4                       Floors\n",
       "Name: 3, dtype: object"
      ]
     },
     "execution_count": 52,
     "metadata": {},
     "output_type": "execute_result"
    }
   ],
   "source": [
    "#csv_file = \"../Resources/customer_data.csv\"\n",
    "excel_file = \"Resources/shipmentstostate2018.xls\"\n",
    "xls = pd.ExcelFile(excel_file)\n",
    "sheet_names = xls.sheet_names\n",
    "#customer_data_df = pd.read_csv(csv_file)\n",
    "for ThisSheet in sheet_names:\n",
    "    print(ThisSheet)\n",
    "    DfForShipMant = pd.read_excel(excel_file, sheet_name = ThisSheet)\n",
    "    DfForShipMant.dropna(inplace= True)\n",
    "    headers = DfForShipMant.iloc[0]\n",
    "    new_df  = pd.DataFrame(DfForShipMant.values[1:], columns=headers)\n",
    "    new_df['month']=ThisSheet\n",
    "    new_df['year']=2018\n",
    "    new_df.head()\n",
    "    new_df.tail()\n",
    "headers\n",
    "\n",
    "#customer_data_df.head()\n",
    "\n",
    "#shipmementstostate2018.head()\n",
    "\n"
   ]
  },
  {
   "cell_type": "markdown",
   "metadata": {},
   "source": [
    "### Create new data with select columns"
   ]
  },
  {
   "cell_type": "code",
   "execution_count": 40,
   "metadata": {
    "ExecuteTime": {
     "end_time": "2020-05-28T00:31:58.716952Z",
     "start_time": "2020-05-28T00:31:58.707950Z"
    }
   },
   "outputs": [
    {
     "data": {
      "text/html": [
       "<div>\n",
       "<style scoped>\n",
       "    .dataframe tbody tr th:only-of-type {\n",
       "        vertical-align: middle;\n",
       "    }\n",
       "\n",
       "    .dataframe tbody tr th {\n",
       "        vertical-align: top;\n",
       "    }\n",
       "\n",
       "    .dataframe thead th {\n",
       "        text-align: right;\n",
       "    }\n",
       "</style>\n",
       "<table border=\"1\" class=\"dataframe\">\n",
       "  <thead>\n",
       "    <tr style=\"text-align: right;\">\n",
       "      <th>3</th>\n",
       "      <th>State</th>\n",
       "      <th>Single- Section</th>\n",
       "      <th>Multi- Section</th>\n",
       "      <th>year</th>\n",
       "    </tr>\n",
       "  </thead>\n",
       "  <tbody>\n",
       "    <tr>\n",
       "      <th>0</th>\n",
       "      <td>Alabama</td>\n",
       "      <td>660</td>\n",
       "      <td>127</td>\n",
       "      <td>2018</td>\n",
       "    </tr>\n",
       "    <tr>\n",
       "      <th>1</th>\n",
       "      <td>Alaska</td>\n",
       "      <td>3</td>\n",
       "      <td>0</td>\n",
       "      <td>2018</td>\n",
       "    </tr>\n",
       "    <tr>\n",
       "      <th>2</th>\n",
       "      <td>Arizona</td>\n",
       "      <td>28</td>\n",
       "      <td>114</td>\n",
       "      <td>2018</td>\n",
       "    </tr>\n",
       "    <tr>\n",
       "      <th>3</th>\n",
       "      <td>Arkansas</td>\n",
       "      <td>93</td>\n",
       "      <td>70</td>\n",
       "      <td>2018</td>\n",
       "    </tr>\n",
       "    <tr>\n",
       "      <th>4</th>\n",
       "      <td>California</td>\n",
       "      <td>68</td>\n",
       "      <td>277</td>\n",
       "      <td>2018</td>\n",
       "    </tr>\n",
       "  </tbody>\n",
       "</table>\n",
       "</div>"
      ],
      "text/plain": [
       "3       State Single- Section Multi- Section  year\n",
       "0     Alabama             660            127  2018\n",
       "1      Alaska               3              0  2018\n",
       "2     Arizona              28            114  2018\n",
       "3    Arkansas              93             70  2018\n",
       "4  California              68            277  2018"
      ]
     },
     "execution_count": 40,
     "metadata": {},
     "output_type": "execute_result"
    }
   ],
   "source": [
    "    \n",
    "# copy the 'id', 'State', 'Single-Section','Multi-Section' to new data frame\n",
    "new_ship_data2018 = new_df[['State','Single- Section' ,'Multi- Section']].copy()\n",
    "new_ship_data2018['year']=2018\n",
    "new_ship_data2018.head()"
   ]
  },
  {
   "cell_type": "markdown",
   "metadata": {},
   "source": [
    "### Store JSON data into a DataFrame"
   ]
  },
  {
   "cell_type": "code",
   "execution_count": null,
   "metadata": {},
   "outputs": [],
   "source": [
    "json_file = \"../Resources/customer_location.json\"\n",
    "customer_location_df = pd.read_json(json_file)\n",
    "customer_location_df.head()"
   ]
  },
  {
   "cell_type": "markdown",
   "metadata": {},
   "source": [
    "### Clean DataFrame"
   ]
  },
  {
   "cell_type": "code",
   "execution_count": null,
   "metadata": {},
   "outputs": [],
   "source": [
    "new_customer_location_df = customer_location_df[[\"id\", \"address\", \"us_state\"]].copy()\n",
    "new_customer_location_df.head()"
   ]
  },
  {
   "cell_type": "markdown",
   "metadata": {},
   "source": [
    "### Connect to local database"
   ]
  },
  {
   "cell_type": "code",
   "execution_count": null,
   "metadata": {},
   "outputs": [],
   "source": [
    "import pg\n",
    "conn = pg.DB(host=\"localhost\", user=\"postgres\", passwd=\"G@dhav7865l\", dbname=\"customer_db\", port=63655)\n",
    "\n",
    "#rds_connection_string = \"postgres:G\\@dhav7865l@localhost:63655/customer_db\"\n",
    "engine = create_engine(f'postgresql://{rds_connection_string}')"
   ]
  },
  {
   "cell_type": "markdown",
   "metadata": {},
   "source": [
    "### Check for tables"
   ]
  },
  {
   "cell_type": "code",
   "execution_count": null,
   "metadata": {},
   "outputs": [],
   "source": [
    "engine.table_names()"
   ]
  },
  {
   "cell_type": "markdown",
   "metadata": {},
   "source": [
    "### Use pandas to load csv converted DataFrame into database"
   ]
  },
  {
   "cell_type": "code",
   "execution_count": null,
   "metadata": {},
   "outputs": [],
   "source": [
    "new_customer_data_df.to_sql(name='customer_name', con=engine, if_exists='append', index=False)"
   ]
  },
  {
   "cell_type": "markdown",
   "metadata": {},
   "source": [
    "### Use pandas to load json converted DataFrame into database"
   ]
  },
  {
   "cell_type": "code",
   "execution_count": null,
   "metadata": {},
   "outputs": [],
   "source": [
    "new_customer_location_df.to_sql(name='customer_location', con=engine, if_exists='append', index=False)"
   ]
  },
  {
   "cell_type": "markdown",
   "metadata": {},
   "source": [
    "### Confirm data has been added by querying the customer_name table\n",
    "* NOTE: can also check using pgAdmin"
   ]
  },
  {
   "cell_type": "code",
   "execution_count": null,
   "metadata": {},
   "outputs": [],
   "source": [
    "pd.read_sql_query('select * from customer_name', con=engine).head()"
   ]
  },
  {
   "cell_type": "markdown",
   "metadata": {},
   "source": [
    "### Confirm data has been added by querying the customer_location table"
   ]
  },
  {
   "cell_type": "code",
   "execution_count": null,
   "metadata": {
    "scrolled": false
   },
   "outputs": [],
   "source": [
    "pd.read_sql_query('select * from customer_location', con=engine).tail()"
   ]
  },
  {
   "cell_type": "code",
   "execution_count": null,
   "metadata": {},
   "outputs": [],
   "source": []
  }
 ],
 "metadata": {
  "hide_input": false,
  "kernelspec": {
   "display_name": "Python 3",
   "language": "python",
   "name": "python3"
  },
  "language_info": {
   "codemirror_mode": {
    "name": "ipython",
    "version": 3
   },
   "file_extension": ".py",
   "mimetype": "text/x-python",
   "name": "python",
   "nbconvert_exporter": "python",
   "pygments_lexer": "ipython3",
   "version": "3.8.2"
  },
  "latex_envs": {
   "LaTeX_envs_menu_present": true,
   "autoclose": false,
   "autocomplete": true,
   "bibliofile": "biblio.bib",
   "cite_by": "apalike",
   "current_citInitial": 1,
   "eqLabelWithNumbers": true,
   "eqNumInitial": 1,
   "hotkeys": {
    "equation": "Ctrl-E",
    "itemize": "Ctrl-I"
   },
   "labels_anchors": false,
   "latex_user_defs": false,
   "report_style_numbering": false,
   "user_envs_cfg": false
  },
  "nbTranslate": {
   "displayLangs": [
    "*"
   ],
   "hotkey": "alt-t",
   "langInMainMenu": true,
   "sourceLang": "en",
   "targetLang": "fr",
   "useGoogleTranslate": true
  },
  "nteract": {
   "version": "0.12.3"
  },
  "toc": {
   "base_numbering": 1,
   "nav_menu": {},
   "number_sections": true,
   "sideBar": true,
   "skip_h1_title": true,
   "title_cell": "Table of Contents",
   "title_sidebar": "Contents",
   "toc_cell": true,
   "toc_position": {},
   "toc_section_display": true,
   "toc_window_display": true
  },
  "varInspector": {
   "cols": {
    "lenName": 16,
    "lenType": 16,
    "lenVar": 40
   },
   "kernels_config": {
    "python": {
     "delete_cmd_postfix": "",
     "delete_cmd_prefix": "del ",
     "library": "var_list.py",
     "varRefreshCmd": "print(var_dic_list())"
    },
    "r": {
     "delete_cmd_postfix": ") ",
     "delete_cmd_prefix": "rm(",
     "library": "var_list.r",
     "varRefreshCmd": "cat(var_dic_list()) "
    }
   },
   "types_to_exclude": [
    "module",
    "function",
    "builtin_function_or_method",
    "instance",
    "_Feature"
   ],
   "window_display": false
  }
 },
 "nbformat": 4,
 "nbformat_minor": 2
}
